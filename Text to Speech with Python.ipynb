{
 "cells": [
  {
   "cell_type": "code",
   "execution_count": 1,
   "id": "13b507dc",
   "metadata": {},
   "outputs": [],
   "source": [
    "# Importing the libraries\n",
    "from newspaper import Article\n",
    "import nltk\n",
    "from gtts import gTTS\n",
    "import os"
   ]
  },
  {
   "cell_type": "code",
   "execution_count": 2,
   "id": "6cc4d581",
   "metadata": {},
   "outputs": [],
   "source": [
    "# Get an article\n",
    "article = Article('https://www.infoworld.com/article/3204016/what-is-python-powerful-intuitive-programming.html')"
   ]
  },
  {
   "cell_type": "code",
   "execution_count": 3,
   "id": "8ac6f54c",
   "metadata": {},
   "outputs": [],
   "source": [
    "# Downloading and parsing\n",
    "article.download()\n",
    "article.parse()"
   ]
  },
  {
   "cell_type": "code",
   "execution_count": 4,
   "id": "04b0c0dd",
   "metadata": {},
   "outputs": [
    {
     "name": "stderr",
     "output_type": "stream",
     "text": [
      "[nltk_data] Downloading package punkt to /Users/pavithra/nltk_data...\n",
      "[nltk_data]   Package punkt is already up-to-date!\n"
     ]
    }
   ],
   "source": [
    "nltk.download('punkt')\n",
    "article.nlp()"
   ]
  },
  {
   "cell_type": "code",
   "execution_count": 5,
   "id": "7fe6bb7a",
   "metadata": {},
   "outputs": [],
   "source": [
    "# Get the article text\n",
    "mytext = article.text"
   ]
  },
  {
   "cell_type": "code",
   "execution_count": 6,
   "id": "ceb233ee",
   "metadata": {},
   "outputs": [
    {
     "data": {
      "text/plain": [
       "'Dating from 1991, the Python programming language was considered a gap-filler, a way to write scripts that “automate the boring stuff” (as one popular book on learning Python put it) or to rapidly prototype applications that will be implemented in other languages.\\n\\nHowever, over the past few years, Python has emerged as a first-class citizen in modern software development, infrastructure management, and data analysis. It is no longer a back-room utility language, but a major force in web application creation and systems management, and a key driver of the explosion in big data analytics and machine intelligence.\\n\\nRelated video: How Python makes programming easier Perfect for IT, Python simplifies many kinds of work, from system automation to working in cutting-edge fields like machine learning.\\n\\nPython’s key advantages\\n\\nPython’s success revolves around several advantages it provides for beginners and experts alike.\\n\\nPython is easy to learn and use\\n\\nThe number of features in the language itself is modest, requiring relatively little investment of time or effort to produce your first programs. The Python syntax is designed to be readable and straightforward. This simplicity makes Python an ideal teaching language, and it lets newcomers pick it up quickly. As a result, developers spend more time thinking about the problem they’re trying to solve and less time thinking about language complexities or deciphering code left by others.\\n\\nPython is broadly adopted and supported\\n\\nPython is both popular and widely used, as the high rankings in surveys like the Tiobe Index and the large number of GitHub projects using Python attest. Python runs on every major operating system and platform, and most minor ones too. Many major libraries and API-powered services have Python bindings or wrappers, letting Python interface freely with those services or directly use those libraries.\\n\\nPython is not a “toy” language\\n\\nEven though scripting and automation cover a large chunk of Python’s use cases (more on that later), Python is also used to build professional-quality software, both as standalone applications and as web services. Python may not be the fastest language, but what it lacks in speed, it makes up for in versatility.\\n\\nPython keeps moving forward\\n\\nEach revision of the Python language adds useful new features to keep pace with modern software development practices. Asynchronous operations and coroutines, for instance, are now standard parts of the language, making it easier to write Python apps that perform concurrent processing.\\n\\nWhat Python is used for\\n\\nThe most basic use case for Python is as a scripting and automation language. Python isn’t just a replacement for shell scripts or batch files; it is also used to automate interactions with web browsers or application GUIs or to do system provisioning and configuration in tools such as Ansible and Salt. But scripting and automation represent only the tip of the iceberg with Python.\\n\\nGeneral application programming with Python\\n\\nYou can create both command-line and cross-platform GUI applications with Python and deploy them as self-contained executables. Python doesn’t have the native ability to generate a standalone binary from a script, but third-party packages like cx_Freeze and PyInstaller can be used to accomplish that.\\n\\nData science and machine learning with Python\\n\\nSophisticated data analysis has become one of fastest-moving areas of IT and one of Python’s star use cases. The vast majority of the libraries used for data science or machine learning have Python interfaces, making the language the most popular high-level command interface to for machine learning libraries and other numerical algorithms.\\n\\nWeb services and RESTful APIs in Python\\n\\nPython’s native libraries and third-party web frameworks provide fast and convenient ways to create everything from simple REST APIs in a few lines of code to full-blown, data-driven sites. Python’s latest versions have strong support for asynchronous operations, letting sites handle tens of thousands of requests per second with the right libraries.\\n\\nMetaprogramming and code generation in Python\\n\\nIn Python, everything in the language is an object, including Python modules and libraries themselves. This lets Python work as a highly efficient code generator, making it possible to write applications that manipulate their own functions and have the kind of extensibility that would be difficult or impossible to pull off in other languages.\\n\\nPython can also be used to drive code-generation systems, such as LLVM, to efficiently create code in other languages.\\n\\n“Glue code” in Python\\n\\nPython is often described as a “glue language,” meaning it can let disparate code (typically libraries with C language interfaces) interoperate. Its use in data science and machine learning is in this vein, but that’s just one incarnation of the general idea. If you have applications or program domains that you would like to hitch up, but cannot talk to each other directly, you can use Python to connect them.\\n\\nWhere Python falls short\\n\\nAlso worth noting are the sorts of tasks Python is not well-suited for.\\n\\nPython is a high-level language, so it’s not suitable for system-level programming—device drivers or OS kernels are out of the picture.\\n\\nIt’s also not ideal for situations that call for cross-platform standalone binaries. You could build a standalone Python app for Windows, MacOS, and Linux, but not elegantly or simply.\\n\\nFinally, Python is not the best choice when speed is an absolute priority in every aspect of the application. For that, you’re better off with C/C++ or another language of that caliber.\\n\\nHow Python makes programming simple\\n\\nPython’s syntax is meant to be readable and clean, with little pretense. A standard “hello world” in Python 3.x is nothing more than:\\n\\nprint(“Hello world!”)\\n\\nPython provides many syntactical elements to concisely express many common program flows. Consider a sample program for reading lines from a text file into a list object, stripping each line of its terminating newline character along the way:\\n\\nwith open(‘myfile.txt’) as my_file:\\n\\nfile_lines = [x.rstrip(‘\\n\\n’) for x in my_file]\\n\\nThe with/as construction is a context manager, which provides an efficient way to instantiate an object for a block of code and then dispose of it outside that block. In this case, the object is my_file , instantiated with the open() function. This takes the place of several lines of boilerplate to open the file, read individual lines from it, then close it up.\\n\\nThe [x … for x in my_file] construction is another Python idiosyncrasy, the list comprehension. It lets an item that contains other items (here, my_file and the lines it contains) be iterated through, and it lets each iterated element (that is, each x ) be processed and automatically appended to a list.\\n\\nYou could write such a thing as a formal for… loop in Python, much as you would in another language. The point is that Python has a way to economically express things like loops that iterate over multiple objects and perform a simple operation on each element in the loop, or to work with things that require explicit instantiation and disposal.\\n\\nConstructions like this let Python developers balance terseness and readability.\\n\\nPython’s other language features are meant to complement common use cases. Most modern object types—Unicode strings, for example—are built directly into the language. Data structures—like lists, dictionaries (i.e., hashmaps or key-value stores), tuples (for storing immutable collections of objects), and sets (for storing collections of unique objects)—are available as standard-issue items.\\n\\nPython 2 vs. Python 3\\n\\nPython is available in two versions, which are different enough to trip up many new users. Python 2.x, the older “legacy” branch, will continue to be supported (that is, receive official updates) through 2020, and it might persist unofficially after that. Python 3.x, the current and future incarnation of the language, has many useful and important features not found in Python 2.x, such as new syntax features (e.g., the “walrus operator”), better concurrency controls, and a more efficient interpreter.\\n\\nPython 3 adoption was slowed for the longest time by the relative lack of third-party library support. Many Python libraries supported only Python 2, making it difficult to switch. But over the last couple of years, the number of libraries supporting only Python 2 has dwindled; all of the most popular libraries are now compatible with both Python 2 and Python 3. Today, Python 3 is the best choice for new projects; there is no reason to pick Python 2 unless you have no choice. If you are stuck with Python 2, you have various strategies at your disposal.\\n\\nPython’s libraries\\n\\nThe success of Python rests on a rich ecosystem of first- and third-party software. Python benefits from both a strong standard library and a generous assortment of easily obtained and readily used libraries from third-party developers. Python has been enriched by decades of expansion and contribution.\\n\\nPython’s standard library provides modules for common programming tasks—math, string handling, file and directory access, networking, asynchronous operations, threading, multiprocess management, and so on. But it also includes modules that manage common, high-level programming tasks needed by modern applications: reading and writing structured file formats like JSON and XML, manipulating compressed files, working with internet protocols and data formats (webpages, URLs, email). Most any external code that exposes a C-compatible foreign function interface can be accessed with Python’s ctypes module.\\n\\nThe default Python distribution also provides a rudimentary, but useful, cross-platform GUI library via Tkinter, and an embedded copy of the SQLite 3 database.\\n\\nThe thousands of third-party libraries, available through the Python Package Index (PyPI), constitute the strongest showcase for Python’s popularity and versatility.\\n\\nFor example:\\n\\nThe BeautifulSoup library provides an all-in-one toolbox for scraping HTML—even tricky, broken HTML—and extracting data from it.\\n\\nRequests makes working with HTTP requests at scale painless and simple.\\n\\nFrameworks like Flask and Django allow rapid development of web services that encompass both simple and advanced use cases.\\n\\nMultiple cloud services can be managed through Python’s object model using Apache Libcloud.\\n\\nNumPy, Pandas, and Matplotlib accelerate math and statistical operations, and make it easy to create visualizations of data.\\n\\nPython’s compromises\\n\\nLike C#, Java, and Go, Python has garbage-collected memory management, meaning the programmer doesn’t have to implement code to track and release objects. Normally, garbage collection happens automatically in the background, but if that poses a performance problem, you can trigger it manually or disable it entirely, or declare whole regions of objects exempt from garbage collection as a performance enhancement.\\n\\nAn important aspect of Python is its dynamism. Everything in the language, including functions and modules themselves, are handled as objects. This comes at the expense of speed (more on that later), but makes it far easier to write high-level code. Developers can perform complex object manipulations with only a few instructions, and even treat parts of an application as abstractions that can be altered if needed.\\n\\nPython’s use of significant whitespace has been cited as both one of Python’s best and worst attributes. The indentation on the second line below isn’t just for readability; it is part of Python’s syntax. Python interpreters will reject programs that don’t use proper indentation to indicate control flow.\\n\\nwith open(‘myfile.txt’) as my_file:\\n\\nfile_lines = [x.rstrip(‘\\n\\n’) for x in my_file]\\n\\nSyntactical white space might cause noses to wrinkle, and some people do reject Python for this reason. But strict indentation rules are far less obtrusive in practice than they might seem in theory, even with the most minimal of code editors, and the result is code that is cleaner and more readable.\\n\\nAnother potential turnoff, especially for those coming from languages like C or Java, is how Python handles variable typing. By default, Python uses dynamic or “duck” typing—great for quick coding, but potentially problematic in large code bases. That said, Python has recently added support for optional compile-time type hinting, so projects that might benefit from static typing can use it.\\n\\nIs Python slow? Not necessarily\\n\\nOne common caveat about Python is that it’s slow. Objectively, it’s true. Python programs generally run much more slowly than corresponding programs in C/C++ or Java. Some Python programs will be slower by an order of magnitude or more.'"
      ]
     },
     "execution_count": 6,
     "metadata": {},
     "output_type": "execute_result"
    }
   ],
   "source": [
    "mytext"
   ]
  },
  {
   "cell_type": "code",
   "execution_count": 7,
   "id": "7ecd522a",
   "metadata": {},
   "outputs": [],
   "source": [
    "# English\n",
    "language = 'en' "
   ]
  },
  {
   "cell_type": "code",
   "execution_count": 8,
   "id": "4311602d",
   "metadata": {},
   "outputs": [],
   "source": [
    "myobj = gTTS(text = mytext, lang=language, slow=False)"
   ]
  },
  {
   "cell_type": "code",
   "execution_count": 9,
   "id": "f56864e8",
   "metadata": {},
   "outputs": [],
   "source": [
    "myobj.save(\"read_article.mp3\")"
   ]
  },
  {
   "cell_type": "code",
   "execution_count": 10,
   "id": "5f2ec6a6",
   "metadata": {},
   "outputs": [],
   "source": [
    "# os.system(\"start read_article.mp3\")"
   ]
  },
  {
   "cell_type": "code",
   "execution_count": null,
   "id": "9fb2283f",
   "metadata": {},
   "outputs": [],
   "source": []
  }
 ],
 "metadata": {
  "kernelspec": {
   "display_name": "Python 3",
   "language": "python",
   "name": "python3"
  },
  "language_info": {
   "codemirror_mode": {
    "name": "ipython",
    "version": 3
   },
   "file_extension": ".py",
   "mimetype": "text/x-python",
   "name": "python",
   "nbconvert_exporter": "python",
   "pygments_lexer": "ipython3",
   "version": "3.8.3"
  }
 },
 "nbformat": 4,
 "nbformat_minor": 5
}
